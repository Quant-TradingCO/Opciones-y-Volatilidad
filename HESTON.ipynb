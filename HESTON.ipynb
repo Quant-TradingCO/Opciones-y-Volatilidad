{
 "cells": [
  {
   "cell_type": "code",
   "execution_count": 1,
   "metadata": {},
   "outputs": [],
   "source": [
    "from numpy import *\n",
    "from pylab import *\n",
    "from numpy.random import rand\n",
    "import scipy.stats\n",
    "\n",
    "kappa=2; theta=0.0225; sigma=0.2; rho=0.5; v0=0.0225; rd=0.05; rf=0.0; T = 0.25; s0=100; K =110;N=500\n",
    "\n",
    "########################################################################################################################################################\n",
    "def trap(f,a,b,N):\n",
    "\n",
    "    #This function calculates the iterated trapezoidrule to approximate an integral\n",
    "\n",
    "    h = (b-a)/N\n",
    "    left = 0.5*h*f(a)\n",
    "    right = 0.5*h*f(b)\n",
    "    mid = 0\n",
    "\n",
    "    for i in range(1,N):\n",
    "        mid = mid + h*f(a+h*i)\n",
    "\n",
    "    integral = left+mid+right\n",
    "\n",
    "    return integral\n",
    "\n",
    "\n",
    "########################################################################################################################################################\n",
    "\n",
    "def charfn_heston(phi,kappa,theta,sigma,rho,v0,rd,rf,T,s0,index):\n",
    "    \n",
    "    if index == 1:\n",
    "        u = 0.5\n",
    "        b = kappa - rho*sigma;\n",
    "    else:\n",
    "        u = -0.5\n",
    "        b = kappa\n",
    "    \n",
    "    x = log(s0)\n",
    "    a = kappa*theta; \n",
    "    d = sqrt((rho*sigma*phi*1j-b)**2-sigma**2*(2*u*phi*1j-phi**2))\n",
    "    g = (b-rho*sigma*phi*1j + d)/(b-rho*sigma*phi*1j - d)\n",
    "    C = (rd-rf)*phi*1j*T + a/sigma**2*((b- rho*sigma*phi*1j + d)*T - 2*log((1-g*exp(d*T))/(1-g)))\n",
    "    D = (b-rho*sigma*phi*1j + d)/sigma**2*((1-exp(d*T))/(1-g*exp(d*T)))\n",
    "    char_fn = exp(C + D*v0 + 1j*phi*x)\n",
    "\n",
    "    return char_fn\n",
    "\n",
    "########################################################################################################################################################\n",
    "\n",
    "def quadhestoncall(kappa,theta,sigma,rho,v0,rd,rf,T,s0,K,N,uMin=0.00000001,uMax=100):\n",
    "\n",
    "    a = uMin\n",
    "    b = uMax\n",
    "\n",
    "    def integrand1(phi,kappa=kappa,theta=theta,sigma=sigma,rho=rho,v0=v0,rd=rd,rf=rf,T=T,s0=s0,K=K,index=1):\n",
    "        \n",
    "        integrand1 = ((exp(-1j*phi*log(K))*charfn_heston(phi,kappa,theta,sigma,rho,v0,rd,rf,T,s0,index))/(1j*phi)).real\n",
    "        \n",
    "        return integrand1\n",
    "\n",
    "    def integrand2(phi,kappa=kappa,theta=theta,sigma=sigma,rho=rho,v0=v0,rd=rd,rf=rf,T=T,s0=s0,K=K,index=2):\n",
    "\n",
    "        integrand2 = ((exp(-1j*phi*log(K))*charfn_heston(phi,kappa,theta,sigma,rho,v0,rd,rf,T,s0,index))/(1j*phi)).real\n",
    "        \n",
    "        return integrand2\n",
    "    \n",
    "\n",
    "    p1 = 0.5 + (1/pi)*trap(integrand1,a,b,N)\n",
    "    p2 = 0.5 + (1/pi)*trap(integrand2,a,b,N)\n",
    "\n",
    "    callprice=s0*exp(-rf*T)*p1 - K*exp(-rd*T)*p2\n",
    "    \n",
    "    return callprice\n",
    "\n",
    "########################################################################################################################################################\n"
   ]
  },
  {
   "cell_type": "code",
   "execution_count": 2,
   "metadata": {},
   "outputs": [
    {
     "data": {
      "text/plain": [
       "0.6614034902557488"
      ]
     },
     "execution_count": 2,
     "metadata": {},
     "output_type": "execute_result"
    }
   ],
   "source": [
    "quadhestoncall(kappa,theta,sigma,rho,v0,rd,rf,T,s0,K,N,uMin=0.00000001,uMax=100)"
   ]
  }
 ],
 "metadata": {
  "kernelspec": {
   "display_name": "Python 3",
   "language": "python",
   "name": "python3"
  },
  "language_info": {
   "codemirror_mode": {
    "name": "ipython",
    "version": 3
   },
   "file_extension": ".py",
   "mimetype": "text/x-python",
   "name": "python",
   "nbconvert_exporter": "python",
   "pygments_lexer": "ipython3",
   "version": "3.8.8"
  }
 },
 "nbformat": 4,
 "nbformat_minor": 2
}
