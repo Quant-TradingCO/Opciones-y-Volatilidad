{
 "cells": [
  {
   "cell_type": "code",
   "execution_count": 6,
   "metadata": {},
   "outputs": [],
   "source": [
    "from scipy.stats import norm\n",
    "import numpy as np\n",
    "\n",
    "def bsformula(callput, S0, K, r, T, sigma, q=0):\n",
    "\n",
    "    #Changing possible integers to float\n",
    "    S0 = float(S0)\n",
    "    K = float(K)\n",
    "    r = float(r)\n",
    "    T = float(T)\n",
    "    sigma = float(sigma)\n",
    "\n",
    "\n",
    "    d1 = (np.log(S0 / K) + (r -q + sigma**2 / 2) * T) / (sigma * T**0.5)\n",
    "    d2 = d1 - sigma * T**0.5\n",
    "    nd1_prime = 1/(((2*np.pi)**0.5)*(np.exp((d1**2)/2)))\n",
    "\n",
    "    if callput == 'call':\n",
    "        nd1 = norm.cdf(d1, )\n",
    "        nd2 = norm.cdf(d2, )        \n",
    "        optionValue = S0 * np.exp(-q*T) * nd1 - K * np.exp(-r * T) * nd2 \n",
    "        delta = nd1*np.exp(-q*T)       \n",
    "\n",
    "    elif callput == 'put':\n",
    "        nd1 = norm.cdf(-d1, )\n",
    "        nd2 = norm.cdf(-d2, )        \n",
    "        optionValue = -S0 *np.exp(-q*T) *  nd1 + K * np.exp(-r * T) * nd2\n",
    "        delta = -nd1*np.exp(-q*T)\n",
    "\n",
    "    else:\n",
    "        raise Exception (\"You can just imput [call] or [put] in the first parameter\")\n",
    "\n",
    "    vega =  S0*(T**0.5)*nd1_prime*np.exp(-q*T)\n",
    "    return optionValue, delta, vega\n",
    "\n",
    "################################################################################################################################################################\n"
   ]
  },
  {
   "cell_type": "code",
   "execution_count": 9,
   "metadata": {},
   "outputs": [
    {
     "data": {
      "text/plain": [
       "(6.040088129724239, 0.44964793063717595, 39.57604803881934)"
      ]
     },
     "execution_count": 9,
     "metadata": {},
     "output_type": "execute_result"
    }
   ],
   "source": [
    "bsformula('call', 100, 110, 0.05, 1, 0.2, q=0)"
   ]
  }
 ],
 "metadata": {
  "kernelspec": {
   "display_name": "Python 3",
   "language": "python",
   "name": "python3"
  },
  "language_info": {
   "codemirror_mode": {
    "name": "ipython",
    "version": 3
   },
   "file_extension": ".py",
   "mimetype": "text/x-python",
   "name": "python",
   "nbconvert_exporter": "python",
   "pygments_lexer": "ipython3",
   "version": "3.8.8"
  }
 },
 "nbformat": 4,
 "nbformat_minor": 2
}
